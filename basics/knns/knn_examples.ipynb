{
 "cells": [
  {
   "cell_type": "markdown",
   "metadata": {},
   "source": [
    "# A1. SAT-GPA example"
   ]
  },
  {
   "cell_type": "code",
   "execution_count": 105,
   "metadata": {},
   "outputs": [],
   "source": [
    "import numpy as np\n",
    "import pandas as pd\n",
    "import matplotlib.pyplot as plt\n",
    "\n",
    "DATASET_PATH = \"/home/m1nhd3n/Works/AI/ML/datasets/sat-gpa/sat_gpa.csv\""
   ]
  },
  {
   "cell_type": "code",
   "execution_count": 106,
   "metadata": {},
   "outputs": [
    {
     "data": {
      "text/html": [
       "<div>\n",
       "<style scoped>\n",
       "    .dataframe tbody tr th:only-of-type {\n",
       "        vertical-align: middle;\n",
       "    }\n",
       "\n",
       "    .dataframe tbody tr th {\n",
       "        vertical-align: top;\n",
       "    }\n",
       "\n",
       "    .dataframe thead th {\n",
       "        text-align: right;\n",
       "    }\n",
       "</style>\n",
       "<table border=\"1\" class=\"dataframe\">\n",
       "  <thead>\n",
       "    <tr style=\"text-align: right;\">\n",
       "      <th></th>\n",
       "      <th>SAT</th>\n",
       "      <th>GPA</th>\n",
       "    </tr>\n",
       "  </thead>\n",
       "  <tbody>\n",
       "    <tr>\n",
       "      <th>0</th>\n",
       "      <td>1714</td>\n",
       "      <td>2.40</td>\n",
       "    </tr>\n",
       "    <tr>\n",
       "      <th>1</th>\n",
       "      <td>1664</td>\n",
       "      <td>2.52</td>\n",
       "    </tr>\n",
       "    <tr>\n",
       "      <th>2</th>\n",
       "      <td>1760</td>\n",
       "      <td>2.54</td>\n",
       "    </tr>\n",
       "    <tr>\n",
       "      <th>3</th>\n",
       "      <td>1685</td>\n",
       "      <td>2.74</td>\n",
       "    </tr>\n",
       "    <tr>\n",
       "      <th>4</th>\n",
       "      <td>1693</td>\n",
       "      <td>2.83</td>\n",
       "    </tr>\n",
       "    <tr>\n",
       "      <th>...</th>\n",
       "      <td>...</td>\n",
       "      <td>...</td>\n",
       "    </tr>\n",
       "    <tr>\n",
       "      <th>79</th>\n",
       "      <td>1936</td>\n",
       "      <td>3.71</td>\n",
       "    </tr>\n",
       "    <tr>\n",
       "      <th>80</th>\n",
       "      <td>1810</td>\n",
       "      <td>3.71</td>\n",
       "    </tr>\n",
       "    <tr>\n",
       "      <th>81</th>\n",
       "      <td>1987</td>\n",
       "      <td>3.73</td>\n",
       "    </tr>\n",
       "    <tr>\n",
       "      <th>82</th>\n",
       "      <td>1962</td>\n",
       "      <td>3.76</td>\n",
       "    </tr>\n",
       "    <tr>\n",
       "      <th>83</th>\n",
       "      <td>2050</td>\n",
       "      <td>3.81</td>\n",
       "    </tr>\n",
       "  </tbody>\n",
       "</table>\n",
       "<p>84 rows × 2 columns</p>\n",
       "</div>"
      ],
      "text/plain": [
       "     SAT   GPA\n",
       "0   1714  2.40\n",
       "1   1664  2.52\n",
       "2   1760  2.54\n",
       "3   1685  2.74\n",
       "4   1693  2.83\n",
       "..   ...   ...\n",
       "79  1936  3.71\n",
       "80  1810  3.71\n",
       "81  1987  3.73\n",
       "82  1962  3.76\n",
       "83  2050  3.81\n",
       "\n",
       "[84 rows x 2 columns]"
      ]
     },
     "execution_count": 106,
     "metadata": {},
     "output_type": "execute_result"
    }
   ],
   "source": [
    "df = pd.read_csv(DATASET_PATH)\n",
    "df"
   ]
  },
  {
   "cell_type": "code",
   "execution_count": 107,
   "metadata": {},
   "outputs": [
    {
     "data": {
      "text/plain": [
       "<matplotlib.collections.PathCollection at 0x7fbf4e893710>"
      ]
     },
     "execution_count": 107,
     "metadata": {},
     "output_type": "execute_result"
    },
    {
     "data": {
      "image/png": "[encoded data removed]",
      "text/plain": [
       "<Figure size 640x480 with 1 Axes>"
      ]
     },
     "metadata": {},
     "output_type": "display_data"
    }
   ],
   "source": [
    "plt.scatter(df[\"SAT\"], df[\"GPA\"])"
   ]
  },
  {
   "cell_type": "markdown",
   "metadata": {},
   "source": [
    "We should choose k = sqrt(N) for many KNNs problems."
   ]
  },
  {
   "cell_type": "code",
   "execution_count": 108,
   "metadata": {},
   "outputs": [],
   "source": [
    "k = 8\n",
    "\n",
    "def distance(array, value):\n",
    "    array = np.array(array)\n",
    "    return abs(array - value)\n",
    "\n",
    "def find_nearest_index(array, value, k):\n",
    "    array_D = distance(array, value)\n",
    "    return np.argsort(array_D)[:k]\n",
    "\n",
    "n = len(df)\n",
    "X_train = df[\"SAT\"][:64].to_numpy()\n",
    "y_train = df[\"GPA\"][:64].to_numpy()\n",
    "\n",
    "X_test = df[\"SAT\"][64:].to_numpy()\n",
    "y_test = df[\"GPA\"][64:].to_numpy()"
   ]
  },
  {
   "cell_type": "code",
   "execution_count": 109,
   "metadata": {},
   "outputs": [
    {
     "name": "stdout",
     "output_type": "stream",
     "text": [
      "3.3925000000000005 3.51\n",
      "3.2749999999999995 3.52\n",
      "3.2949999999999995 3.52\n",
      "3.3975000000000004 3.54\n",
      "3.295 3.58\n",
      "3.3974999999999995 3.58\n",
      "3.3975000000000004 3.59\n",
      "3.2587500000000005 3.59\n",
      "3.3899999999999997 3.6\n",
      "3.3975000000000004 3.6\n",
      "3.3874999999999993 3.61\n",
      "3.3874999999999993 3.62\n",
      "3.3662499999999995 3.64\n",
      "3.3874999999999993 3.65\n",
      "3.2950000000000004 3.71\n",
      "3.3975000000000004 3.71\n",
      "3.30875 3.71\n",
      "3.3662500000000004 3.73\n",
      "3.37625 3.76\n",
      "3.3874999999999993 3.81\n"
     ]
    }
   ],
   "source": [
    "y_pred = np.zeros(len(X_test))\n",
    "\n",
    "for i in range(len(X_test)):\n",
    "    indices = find_nearest_index(X_train, X_test[i], k=8)\n",
    "    for idx in indices:\n",
    "        y_pred[i] = y_pred[i] + y_train[idx]\n",
    "    y_pred[i] /= len(indices)\n",
    "    print(y_pred[i], y_test[i])"
   ]
  },
  {
   "cell_type": "code",
   "execution_count": 110,
   "metadata": {},
   "outputs": [
    {
     "name": "stdout",
     "output_type": "stream",
     "text": [
      "MSE: 0.08137789062500003\n",
      "MAE: 0.2711875000000001\n",
      "R2: -10.951518670142466\n"
     ]
    }
   ],
   "source": [
    "from sklearn.metrics._regression import mean_squared_error, mean_absolute_error, r2_score\n",
    "\n",
    "print(f\"MSE: {mean_squared_error(y_test, y_pred)}\")\n",
    "print(f\"MAE: {mean_absolute_error(y_test, y_pred)}\")\n",
    "print(f\"R2: {r2_score(y_test, y_pred)}\")"
   ]
  },
  {
   "cell_type": "markdown",
   "metadata": {},
   "source": [
    "# A2. Temp-Pressure example"
   ]
  },
  {
   "cell_type": "code",
   "execution_count": 111,
   "metadata": {},
   "outputs": [
    {
     "data": {
      "image/png": "[encoded data removed]",
      "text/plain": [
       "<Figure size 640x480 with 1 Axes>"
      ]
     },
     "metadata": {},
     "output_type": "display_data"
    }
   ],
   "source": [
    "from __future__ import division, print_function, unicode_literals\n",
    "import numpy as np\n",
    "import matplotlib.pyplot as plt\n",
    "X = np.array([[194.5, 194.3, 197.9, 198.4, 199.4, 199.9, 200.9, 201.1, 201.4, 201.3, 203.6, 204.6, 209.5, 208.6, 210.7, 211.9, 212.2]]).T\n",
    "y = np.array([[20.79,20.79,22.4,22.67,23.15,23.35,23.89,23.99,24.02,24.01,25.14,26.57,28.49,27.76,29.04,29.88,30.06]]).T\n",
    "plt.plot(X, y, 'ro')\n",
    "plt.axis([193, 213, 19, 31])\n",
    "plt.xlabel('Temperature (F)')\n",
    "plt.ylabel('Pressure (Atm)')\n",
    "plt.show()"
   ]
  },
  {
   "cell_type": "code",
   "execution_count": 112,
   "metadata": {},
   "outputs": [],
   "source": [
    "X_train = X[:16]\n",
    "y_train = y[:16]\n",
    "X_test = X[16:]\n",
    "y_test = y[16:]"
   ]
  },
  {
   "cell_type": "code",
   "execution_count": 113,
   "metadata": {},
   "outputs": [
    {
     "name": "stdout",
     "output_type": "stream",
     "text": [
      "20.79 [30.06]\n",
      "MSE: 85.93289999999999\n",
      "MAE: 9.27\n"
     ]
    },
    {
     "name": "stderr",
     "output_type": "stream",
     "text": [
      "/tmp/ipykernel_7149/2858666148.py:6: DeprecationWarning: Conversion of an array with ndim > 0 to a scalar is deprecated, and will error in future. Ensure you extract a single element from your array before performing this operation. (Deprecated NumPy 1.25.)\n",
      "  y_pred[i] = y_pred[i] + y_train[idx]\n"
     ]
    }
   ],
   "source": [
    "y_pred = np.zeros(len(X_test))\n",
    "\n",
    "for i in range(len(X_test)):\n",
    "    indices = find_nearest_index(X_train, X_test[i], 4)\n",
    "    for idx in indices:\n",
    "        y_pred[i] = y_pred[i] + y_train[idx]\n",
    "    y_pred[i] /= len(indices)\n",
    "    print(y_pred[i], y_test[i])\n",
    "\n",
    "print(f\"MSE: {mean_squared_error(y_test, y_pred)}\")\n",
    "print(f\"MAE: {mean_absolute_error(y_test, y_pred)}\")"
   ]
  },
  {
   "cell_type": "markdown",
   "metadata": {},
   "source": [
    "# A3. US Fuel example"
   ]
  },
  {
   "cell_type": "code",
   "execution_count": 114,
   "metadata": {},
   "outputs": [
    {
     "data": {
      "text/html": [
       "<div>\n",
       "<style scoped>\n",
       "    .dataframe tbody tr th:only-of-type {\n",
       "        vertical-align: middle;\n",
       "    }\n",
       "\n",
       "    .dataframe tbody tr th {\n",
       "        vertical-align: top;\n",
       "    }\n",
       "\n",
       "    .dataframe thead th {\n",
       "        text-align: right;\n",
       "    }\n",
       "</style>\n",
       "<table border=\"1\" class=\"dataframe\">\n",
       "  <thead>\n",
       "    <tr style=\"text-align: right;\">\n",
       "      <th></th>\n",
       "      <th>Drivers</th>\n",
       "      <th>FuelC</th>\n",
       "      <th>Income</th>\n",
       "      <th>Miles</th>\n",
       "      <th>Pop</th>\n",
       "      <th>Tax</th>\n",
       "    </tr>\n",
       "  </thead>\n",
       "  <tbody>\n",
       "    <tr>\n",
       "      <th>0</th>\n",
       "      <td>3559897</td>\n",
       "      <td>2382507</td>\n",
       "      <td>23471</td>\n",
       "      <td>94440</td>\n",
       "      <td>3451586</td>\n",
       "      <td>18.0</td>\n",
       "    </tr>\n",
       "    <tr>\n",
       "      <th>1</th>\n",
       "      <td>472211</td>\n",
       "      <td>235400</td>\n",
       "      <td>30064</td>\n",
       "      <td>13628</td>\n",
       "      <td>457728</td>\n",
       "      <td>8.0</td>\n",
       "    </tr>\n",
       "    <tr>\n",
       "      <th>2</th>\n",
       "      <td>3550367</td>\n",
       "      <td>2428430</td>\n",
       "      <td>25578</td>\n",
       "      <td>55245</td>\n",
       "      <td>3907526</td>\n",
       "      <td>18.0</td>\n",
       "    </tr>\n",
       "    <tr>\n",
       "      <th>3</th>\n",
       "      <td>1961883</td>\n",
       "      <td>1358174</td>\n",
       "      <td>22257</td>\n",
       "      <td>98132</td>\n",
       "      <td>2072622</td>\n",
       "      <td>21.7</td>\n",
       "    </tr>\n",
       "    <tr>\n",
       "      <th>4</th>\n",
       "      <td>21623793</td>\n",
       "      <td>14691753</td>\n",
       "      <td>32275</td>\n",
       "      <td>168771</td>\n",
       "      <td>25599275</td>\n",
       "      <td>18.0</td>\n",
       "    </tr>\n",
       "  </tbody>\n",
       "</table>\n",
       "</div>"
      ],
      "text/plain": [
       "    Drivers     FuelC  Income   Miles       Pop   Tax\n",
       "0   3559897   2382507   23471   94440   3451586  18.0\n",
       "1    472211    235400   30064   13628    457728   8.0\n",
       "2   3550367   2428430   25578   55245   3907526  18.0\n",
       "3   1961883   1358174   22257   98132   2072622  21.7\n",
       "4  21623793  14691753   32275  168771  25599275  18.0"
      ]
     },
     "execution_count": 114,
     "metadata": {},
     "output_type": "execute_result"
    }
   ],
   "source": [
    "DATASET_PATH = \"/home/m1nhd3n/Works/AI/ML/datasets/us_fuel_2001/fuel.txt\"\n",
    "\n",
    "df = pd.read_csv(DATASET_PATH)\n",
    "df = df.drop([\"State\", \"MPC\"], axis=\"columns\")\n",
    "df.head()"
   ]
  },
  {
   "cell_type": "code",
   "execution_count": 115,
   "metadata": {},
   "outputs": [
    {
     "data": {
      "text/html": [
       "<div>\n",
       "<style scoped>\n",
       "    .dataframe tbody tr th:only-of-type {\n",
       "        vertical-align: middle;\n",
       "    }\n",
       "\n",
       "    .dataframe tbody tr th {\n",
       "        vertical-align: top;\n",
       "    }\n",
       "\n",
       "    .dataframe thead th {\n",
       "        text-align: right;\n",
       "    }\n",
       "</style>\n",
       "<table border=\"1\" class=\"dataframe\">\n",
       "  <thead>\n",
       "    <tr style=\"text-align: right;\">\n",
       "      <th></th>\n",
       "      <th>Drivers</th>\n",
       "      <th>FuelC</th>\n",
       "      <th>Income</th>\n",
       "      <th>Miles</th>\n",
       "      <th>Pop</th>\n",
       "      <th>Tax</th>\n",
       "      <th>Fuel</th>\n",
       "      <th>Dlic</th>\n",
       "      <th>logMiles</th>\n",
       "    </tr>\n",
       "  </thead>\n",
       "  <tbody>\n",
       "    <tr>\n",
       "      <th>0</th>\n",
       "      <td>3559897</td>\n",
       "      <td>2382507</td>\n",
       "      <td>23471</td>\n",
       "      <td>94440</td>\n",
       "      <td>3451586</td>\n",
       "      <td>18.0</td>\n",
       "      <td>690.264418</td>\n",
       "      <td>1031.380067</td>\n",
       "      <td>16.527110</td>\n",
       "    </tr>\n",
       "    <tr>\n",
       "      <th>1</th>\n",
       "      <td>472211</td>\n",
       "      <td>235400</td>\n",
       "      <td>30064</td>\n",
       "      <td>13628</td>\n",
       "      <td>457728</td>\n",
       "      <td>8.0</td>\n",
       "      <td>514.279223</td>\n",
       "      <td>1031.641062</td>\n",
       "      <td>13.734286</td>\n",
       "    </tr>\n",
       "    <tr>\n",
       "      <th>2</th>\n",
       "      <td>3550367</td>\n",
       "      <td>2428430</td>\n",
       "      <td>25578</td>\n",
       "      <td>55245</td>\n",
       "      <td>3907526</td>\n",
       "      <td>18.0</td>\n",
       "      <td>621.475071</td>\n",
       "      <td>908.597153</td>\n",
       "      <td>15.753556</td>\n",
       "    </tr>\n",
       "    <tr>\n",
       "      <th>3</th>\n",
       "      <td>1961883</td>\n",
       "      <td>1358174</td>\n",
       "      <td>22257</td>\n",
       "      <td>98132</td>\n",
       "      <td>2072622</td>\n",
       "      <td>21.7</td>\n",
       "      <td>655.292668</td>\n",
       "      <td>946.570576</td>\n",
       "      <td>16.582436</td>\n",
       "    </tr>\n",
       "    <tr>\n",
       "      <th>4</th>\n",
       "      <td>21623793</td>\n",
       "      <td>14691753</td>\n",
       "      <td>32275</td>\n",
       "      <td>168771</td>\n",
       "      <td>25599275</td>\n",
       "      <td>18.0</td>\n",
       "      <td>573.912855</td>\n",
       "      <td>844.703336</td>\n",
       "      <td>17.364708</td>\n",
       "    </tr>\n",
       "  </tbody>\n",
       "</table>\n",
       "</div>"
      ],
      "text/plain": [
       "    Drivers     FuelC  Income   Miles       Pop   Tax        Fuel  \\\n",
       "0   3559897   2382507   23471   94440   3451586  18.0  690.264418   \n",
       "1    472211    235400   30064   13628    457728   8.0  514.279223   \n",
       "2   3550367   2428430   25578   55245   3907526  18.0  621.475071   \n",
       "3   1961883   1358174   22257   98132   2072622  21.7  655.292668   \n",
       "4  21623793  14691753   32275  168771  25599275  18.0  573.912855   \n",
       "\n",
       "          Dlic   logMiles  \n",
       "0  1031.380067  16.527110  \n",
       "1  1031.641062  13.734286  \n",
       "2   908.597153  15.753556  \n",
       "3   946.570576  16.582436  \n",
       "4   844.703336  17.364708  "
      ]
     },
     "execution_count": 115,
     "metadata": {},
     "output_type": "execute_result"
    }
   ],
   "source": [
    "df[\"Fuel\"] = df[\"FuelC\"] / df[\"Pop\"] * 1000\n",
    "df[\"Dlic\"] = df[\"Drivers\"] / df[\"Pop\"] * 1000\n",
    "df[\"logMiles\"] = np.log2(df[\"Miles\"])\n",
    "df.head()"
   ]
  },
  {
   "cell_type": "code",
   "execution_count": 116,
   "metadata": {},
   "outputs": [],
   "source": [
    "X = df.drop(\"Fuel\", axis=\"columns\")\n",
    "y = df[\"Fuel\"]\n",
    "X_train = X[:40].to_numpy()\n",
    "X_test = X[40:].to_numpy()\n",
    "y_train = y[:40].to_numpy()\n",
    "y_test = y[40:].to_numpy()"
   ]
  },
  {
   "cell_type": "code",
   "execution_count": 117,
   "metadata": {},
   "outputs": [],
   "source": [
    "def distance(array, value):\n",
    "    array = np.array(array)\n",
    "    return np.linalg.norm(array - value, ord=2, axis=1)\n",
    "\n",
    "def find_nearest_index(array, value, k):\n",
    "    array_D = distance(array, value)\n",
    "    return np.argsort(array_D)[:k]"
   ]
  },
  {
   "cell_type": "code",
   "execution_count": 118,
   "metadata": {},
   "outputs": [
    {
     "data": {
      "text/plain": [
       "array([0.        , 1.41421356, 1.73205081])"
      ]
     },
     "execution_count": 118,
     "metadata": {},
     "output_type": "execute_result"
    }
   ],
   "source": [
    "# Test to see if our distance function is correct\n",
    "\n",
    "test = np.array([\n",
    "    [1, 1, 1],\n",
    "    [1, 0, 0],\n",
    "    [0, 0, 2]\n",
    "])\n",
    "value = np.array([\n",
    "    [1, 1, 1],\n",
    "])\n",
    "distance(test, value)"
   ]
  },
  {
   "cell_type": "code",
   "execution_count": 119,
   "metadata": {},
   "outputs": [
    {
     "name": "stdout",
     "output_type": "stream",
     "text": [
      "645.7516849836362 711.7330576894062\n",
      "618.2724155011775 697.0527770609518\n",
      "625.3552044978319 638.2310609545192\n",
      "501.2691144191463 681.100136591545\n",
      "620.0035520945884 591.4999458878183\n",
      "530.9960750098784 691.0227118608702\n",
      "613.212654641754 681.0311214380635\n",
      "625.3552044978319 576.0697495580029\n",
      "615.8011038606852 562.4109333021843\n",
      "650.847944069796 581.7937169457123\n",
      "530.9960750098784 842.7917524261421\n"
     ]
    }
   ],
   "source": [
    "y_pred = np.zeros(len(X_test))\n",
    "\n",
    "for i in range(len(X_test)):\n",
    "    indices = find_nearest_index(X_train, X_test[i], 4)\n",
    "    for idx in indices:\n",
    "        y_pred[i] += y_train[idx]\n",
    "    y_pred[i] /= len(indices)\n",
    "    print(y_pred[i], y_test[i])"
   ]
  },
  {
   "cell_type": "code",
   "execution_count": 120,
   "metadata": {},
   "outputs": [
    {
     "name": "stdout",
     "output_type": "stream",
     "text": [
      "MSE: 16486.344795816774\n",
      "MAE: 97.9402593443072\n",
      "R2: -1.7002755312088609\n"
     ]
    }
   ],
   "source": [
    "print(f\"MSE: {mean_squared_error(y_test, y_pred)}\")\n",
    "print(f\"MAE: {mean_absolute_error(y_test, y_pred)}\")\n",
    "print(f\"R2: {r2_score(y_test, y_pred)}\")"
   ]
  }
 ],
 "metadata": {
  "kernelspec": {
   "display_name": ".venv",
   "language": "python",
   "name": "python3"
  },
  "language_info": {
   "codemirror_mode": {
    "name": "ipython",
    "version": 3
   },
   "file_extension": ".py",
   "mimetype": "text/x-python",
   "name": "python",
   "nbconvert_exporter": "python",
   "pygments_lexer": "ipython3",
   "version": "3.11.2"
  }
 },
 "nbformat": 4,
 "nbformat_minor": 2
}
